{
 "cells": [
  {
   "cell_type": "code",
   "execution_count": 151,
   "metadata": {
    "collapsed": true
   },
   "outputs": [],
   "source": [
    "from urllib import urlopen\n",
    "from bs4 import BeautifulSoup\n",
    "import pandas as pd\n",
    "import re\n",
    "import numpy as np"
   ]
  },
  {
   "cell_type": "code",
   "execution_count": 152,
   "metadata": {
    "collapsed": false
   },
   "outputs": [],
   "source": [
    "\n",
    "all_data_df = pd.read_csv(\"all_data_1999_to_2017.csv\")\n",
    "draft_data_df = pd.read_csv(\"draft_data_1999_to_2017.csv\")\n",
    "predraft_measurement_df = pd.read_csv(\"nba-pre-draft-measurements.csv\")\n",
    "blocks_ncaa_df = pd.read_csv(\"blocks_2001_to_2018.csv\")\n",
    "steals_ncaa_df = pd.read_csv(\"steals_2001_to_2018.csv\")\n",
    "scoring_ncaa_df = pd.read_csv(\"scoring_2001_to_2018.csv\")\n",
    "assists_ncaa_df = pd.read_csv(\"assits_2001_to_2018.csv\")\n",
    "rebounds_ncaa_df = pd.read_csv(\"rebounds_2001_to_2018.csv\")\n",
    "\n"
   ]
  },
  {
   "cell_type": "code",
   "execution_count": 153,
   "metadata": {
    "collapsed": false
   },
   "outputs": [],
   "source": [
    "assists_ncaa_df.head()\n",
    "pattern = r'(.*), (\\w)'\n",
    "\n",
    "assists_ncaa_df['PLAYER'] = assists_ncaa_df.apply(lambda row: re.search(pattern, row['PLAYER']).group(1), axis = 1)\n",
    "blocks_ncaa_df['PLAYER'] = blocks_ncaa_df.apply(lambda row: re.search(pattern, row['PLAYER']).group(1), axis = 1)\n",
    "steals_ncaa_df['PLAYER'] = steals_ncaa_df.apply(lambda row: re.search(pattern, row['PLAYER']).group(1), axis = 1)\n",
    "scoring_ncaa_df['PLAYER'] = scoring_ncaa_df.apply(lambda row: re.search(pattern, row['PLAYER']).group(1), axis = 1)\n",
    "rebounds_ncaa_df['PLAYER'] = rebounds_ncaa_df.apply(lambda row: re.search(pattern, row['PLAYER']).group(1), axis = 1)\n",
    "\n",
    "# print assists_ncaa_df.head()\n",
    "# print blocks_ncaa_df.head()\n",
    "# print steals_ncaa_df.head()\n",
    "# print scoring_ncaa_df.head()\n",
    "# print rebounds_ncaa_df.head()"
   ]
  },
  {
   "cell_type": "code",
   "execution_count": 154,
   "metadata": {
    "collapsed": false
   },
   "outputs": [
    {
     "name": "stdout",
     "output_type": "stream",
     "text": [
      "               TEAM  GP   MPG  APG  TOPG  AP40M  NCAA_GP  NCAA_MPG  NCAA_APG  \\\n",
      "PLAYER                                                                         \n",
      "A.J. English   IONA  33  37.3  5.0   3.6    5.4     30.0     36.55      5.60   \n",
      "A.J. Harris    COFC  31  28.3  5.1   1.8    7.2     31.0     28.30      5.10   \n",
      "A.J. Meredith   UNO  29  35.6  4.5   4.1    5.0     29.0     35.60      4.50   \n",
      "A.J. Price     CONN  32  32.8  6.0   2.4    7.3     31.0     32.25      5.35   \n",
      "A.J. Rompza     UCF  29  26.5  5.2   2.2    7.8     30.0     29.00      4.90   \n",
      "\n",
      "               NCAA_TOPG  NCAA_AP40M  \n",
      "PLAYER                                \n",
      "A.J. English        3.55        6.15  \n",
      "A.J. Harris         1.80        7.20  \n",
      "A.J. Meredith       4.10        5.00  \n",
      "A.J. Price          2.50        6.65  \n",
      "A.J. Rompza         2.15        6.85  \n"
     ]
    }
   ],
   "source": [
    "grouped = assists_ncaa_df.groupby('PLAYER')\n",
    "assistdf = grouped.first()\n",
    "\n",
    "assistdf = assistdf.drop(['Unnamed: 0', 'AST', 'TO', 'AST', 'RK', 'AST/TO'], axis = 1)\n",
    "assistdf['NCAA_GP'] = grouped['GP'].mean()\n",
    "assistdf['NCAA_MPG'] = grouped['MPG'].mean()\n",
    "assistdf['NCAA_APG'] = grouped['APG'].mean()\n",
    "assistdf['NCAA_TOPG'] = grouped['TOPG'].mean()\n",
    "assistdf['NCAA_AP40M'] = grouped['AP40M'].mean()\n",
    "\n",
    "print assistdf.head()"
   ]
  },
  {
   "cell_type": "code",
   "execution_count": 155,
   "metadata": {
    "collapsed": false
   },
   "outputs": [
    {
     "name": "stdout",
     "output_type": "stream",
     "text": [
      "               TEAM  GP   MPG  PF  BLKPG  BLKP40M    NCAA_GP  NCAA_MPG  \\\n",
      "PLAYER                                                                   \n",
      "A.J. Hammons    PUR  32  23.5  64   2.00     3.40  32.000000    24.225   \n",
      "A.J. Jacobson  NDSU   2  29.5   4   3.50     4.75   2.000000    29.500   \n",
      "A.J. Ogilvy     VAN  29  27.6  78   1.66     2.40  29.000000    27.600   \n",
      "AJ West         NEV  30  29.1  84   2.63     3.62  30.000000    29.100   \n",
      "Aaric Murray    LAS  30  27.5  91   2.33     3.40  31.666667    29.200   \n",
      "\n",
      "                 NCAA_PF  NCAA_BLKPG  NCAA_BLKP40M  \n",
      "PLAYER                                              \n",
      "A.J. Hammons   79.000000    2.605000         4.285  \n",
      "A.J. Jacobson   4.000000    3.500000         4.750  \n",
      "A.J. Ogilvy    78.000000    1.660000         2.400  \n",
      "AJ West        84.000000    2.630000         3.620  \n",
      "Aaric Murray   91.666667    2.396667         3.290  \n"
     ]
    }
   ],
   "source": [
    "grouped = blocks_ncaa_df.groupby('PLAYER')\n",
    "blocksdf = grouped.first()\n",
    "\n",
    "blocksdf = blocksdf.drop(['Unnamed: 0', 'BLK', 'BLK/PF', 'RK'], axis = 1)\n",
    "blocksdf['NCAA_GP'] = grouped['GP'].mean()\n",
    "blocksdf['NCAA_MPG'] = grouped['MPG'].mean()\n",
    "blocksdf['NCAA_PF'] = grouped['PF'].mean()\n",
    "blocksdf['NCAA_BLKPG'] = grouped['BLKPG'].mean()\n",
    "blocksdf['NCAA_BLKP40M'] = grouped['BLKP40M'].mean()\n",
    "\n",
    "print blocksdf.head()\n"
   ]
  },
  {
   "cell_type": "code",
   "execution_count": 156,
   "metadata": {
    "collapsed": false
   },
   "outputs": [
    {
     "name": "stdout",
     "output_type": "stream",
     "text": [
      "                TEAM  GP   MPG  STPG  STP40M  TOPG  PF  NCAA_GP  NCAA_MPG  \\\n",
      "PLAYER                                                                      \n",
      "A.J. Davis       JMU  32  32.4  1.72    2.12  2.66  62    32.00      32.4   \n",
      "A.J. Jacobson   NDSU   2  29.5  2.50    3.39  0.00   4     2.00      29.5   \n",
      "A.J. Rompza      UCF  31  31.5  2.61    3.32  2.10  72    31.00      31.5   \n",
      "A.J. Walton      BAY  30  33.0  2.27    2.75  3.37  93    30.00      33.0   \n",
      "Aaron Anderson   ORU   2  35.5  2.50    2.82  3.00   3     2.00      35.5   \n",
      "Aaron Craft      OSU  34  29.5  1.94    2.63  2.15  93    33.75      32.3   \n",
      "Aaron Linn      WEBB  30  31.2  1.97    2.52  2.53  97    30.00      31.2   \n",
      "Aaron Miles       KU  32  30.9  2.53    3.27  3.34  58    30.50      32.3   \n",
      "Aaron Thomas     FSU  32  30.7  1.69    2.20  2.41  75    32.00      30.7   \n",
      "Abe Badmus      BUCK  29  25.7  1.97    3.06  2.10  76    29.50      27.2   \n",
      "\n",
      "                NCAA_STPG  NCAA_STP40M  NCAA_TOPG  NCAA_PF  \n",
      "PLAYER                                                      \n",
      "A.J. Davis         1.7200       2.1200      2.660     62.0  \n",
      "A.J. Jacobson      2.5000       3.3900      0.000      4.0  \n",
      "A.J. Rompza        2.6100       3.3200      2.100     72.0  \n",
      "A.J. Walton        2.2700       2.7500      3.370     93.0  \n",
      "Aaron Anderson     2.5000       2.8200      3.000      3.0  \n",
      "Aaron Craft        2.2125       2.7425      2.140     82.0  \n",
      "Aaron Linn         1.9700       2.5200      2.530     97.0  \n",
      "Aaron Miles        2.2150       2.7600      2.910     54.0  \n",
      "Aaron Thomas       1.6900       2.2000      2.410     75.0  \n",
      "Abe Badmus         2.0200       2.9700      2.335     80.5  \n"
     ]
    }
   ],
   "source": [
    "grouped = steals_ncaa_df.groupby('PLAYER')\n",
    "stealdf = grouped.first()\n",
    "# print stealdf.head(10)\n",
    "\n",
    "stealdf = stealdf.drop(['Unnamed: 0', 'STL', 'TO', 'RK', 'ST/TO', 'ST/PF'], axis = 1)\n",
    "stealdf['NCAA_GP'] = grouped['GP'].mean()\n",
    "stealdf['NCAA_MPG'] = grouped['MPG'].mean()\n",
    "stealdf['NCAA_STPG'] = grouped['STPG'].mean()\n",
    "stealdf['NCAA_STP40M'] = grouped['STP40M'].mean()\n",
    "stealdf['NCAA_TOPG'] = grouped['TOPG'].mean()\n",
    "stealdf['NCAA_PF'] = grouped['PF'].mean()\n",
    "stealdf['NCAA_TOPG'] = grouped['TOPG'].mean()\n",
    "\n",
    "print stealdf.head(10)"
   ]
  },
  {
   "cell_type": "code",
   "execution_count": 157,
   "metadata": {
    "collapsed": false
   },
   "outputs": [
    {
     "name": "stdout",
     "output_type": "stream",
     "text": [
      "                TEAM  GP   MPG   PTS    FG%    3P%    FT%   FGA  3PA  FTA  \\\n",
      "PLAYER                                                                      \n",
      "A.D. Vassallo     VT  32  36.5  18.8  0.454  0.377  0.817  15.0  6.5  3.4   \n",
      "A.J. English    IONA  33  37.3  19.9  0.436  0.394  0.781  14.2  8.0  5.5   \n",
      "A.J. Graves      BUT  32  35.3  17.0  0.376  0.354  0.958  13.1  7.9  4.5   \n",
      "A.J. Jackson     RMU  28  35.4  16.9  0.466  0.350  0.850  13.3  4.2  3.6   \n",
      "A.J. Ogilvy      VAN  33  26.3  17.0  0.593  0.000  0.778   9.9  0.1  6.7   \n",
      "A.J. Slaughter   WKU  34  36.5  17.5  0.416  0.359  0.827  13.0  6.5  5.3   \n",
      "AJ Brodeur      PENN   1  29.0  23.0  0.786  0.000  0.200  14.0  0.0  5.0   \n",
      "Aaric Murray    TXSO  33  32.0  21.2  0.485  0.322  0.735  14.2  2.6  8.9   \n",
      "Aaron Bond       NAU  28  27.5  17.3  0.477  0.398  0.793  12.4  4.0  4.8   \n",
      "Aaron Brooks     ORE  31  36.8  17.6  0.458  0.407  0.829  13.1  5.7  4.0   \n",
      "\n",
      "                NCAA_GP  NCAA_MPG  NCAA_PTS  NCAA_FG%  NCAA_3P%  NCAA_FT%  \\\n",
      "PLAYER                                                                      \n",
      "A.D. Vassallo      32.0     36.50     18.80    0.4540     0.377    0.8170   \n",
      "A.J. English       30.0     36.55     21.15    0.4325     0.384    0.8125   \n",
      "A.J. Graves        32.0     35.30     17.00    0.3760     0.354    0.9580   \n",
      "A.J. Jackson       28.0     35.40     16.90    0.4660     0.350    0.8500   \n",
      "A.J. Ogilvy        33.0     26.30     17.00    0.5930     0.000    0.7780   \n",
      "A.J. Slaughter     34.0     36.50     17.50    0.4160     0.359    0.8270   \n",
      "AJ Brodeur          1.0     29.00     23.00    0.7860     0.000    0.2000   \n",
      "Aaric Murray       33.0     32.00     21.20    0.4850     0.322    0.7350   \n",
      "Aaron Bond         28.0     27.50     17.30    0.4770     0.398    0.7930   \n",
      "Aaron Brooks       31.0     36.80     17.60    0.4580     0.407    0.8290   \n",
      "\n",
      "                NCAA_FGA  NCAA_3PA  NCAA_FTA  \n",
      "PLAYER                                        \n",
      "A.D. Vassallo       15.0      6.50       3.4  \n",
      "A.J. English        14.9      8.55       6.1  \n",
      "A.J. Graves         13.1      7.90       4.5  \n",
      "A.J. Jackson        13.3      4.20       3.6  \n",
      "A.J. Ogilvy          9.9      0.10       6.7  \n",
      "A.J. Slaughter      13.0      6.50       5.3  \n",
      "AJ Brodeur          14.0      0.00       5.0  \n",
      "Aaric Murray        14.2      2.60       8.9  \n",
      "Aaron Bond          12.4      4.00       4.8  \n",
      "Aaron Brooks        13.1      5.70       4.0  \n"
     ]
    }
   ],
   "source": [
    "# print scoring_ncaa_df.head(10)\n",
    "scoring_ncaa_df['FGA'] = scoring_ncaa_df['FGM-FGA'].apply(lambda x: re.search(r'(.*)-(.*)', x).group(2)).astype(np.float)\n",
    "scoring_ncaa_df['3PA'] = scoring_ncaa_df['3PM-3PA'].apply(lambda x: re.search(r'(.*)-(.*)', x).group(2)).astype(np.float)\n",
    "scoring_ncaa_df['FTA'] = scoring_ncaa_df['FTM-FTA'].apply(lambda x: re.search(r'(.*)-(.*)', x).group(2)).astype(np.float)\n",
    "grouped = scoring_ncaa_df.groupby('PLAYER')\n",
    "scoredf = grouped.first()\n",
    "# print scoredf.head(10)\n",
    "\n",
    "scoredf = scoredf.drop(['Unnamed: 0', 'FGM-FGA', '3PM-3PA', 'RK', 'FTM-FTA'], axis = 1)\n",
    "scoredf['NCAA_GP'] = grouped['GP'].mean()\n",
    "scoredf['NCAA_MPG'] = grouped['MPG'].mean()\n",
    "scoredf['NCAA_PTS'] = grouped['PTS'].mean()\n",
    "scoredf['NCAA_FG%'] = grouped['FG%'].mean()\n",
    "scoredf['NCAA_3P%'] = grouped['3P%'].mean()\n",
    "scoredf['NCAA_FT%'] = grouped['FT%'].mean()\n",
    "scoredf['NCAA_FGA'] = grouped['FGA'].mean()\n",
    "scoredf['NCAA_3PA'] = grouped['3PA'].mean()\n",
    "scoredf['NCAA_FTA'] = grouped['FTA'].mean()\n",
    "\n",
    "print scoredf.head(10)"
   ]
  },
  {
   "cell_type": "code",
   "execution_count": 159,
   "metadata": {
    "collapsed": false
   },
   "outputs": [
    {
     "name": "stdout",
     "output_type": "stream",
     "text": [
      "                 TEAM  GP   MPG  ORPG  DRPG  RP40  NCAA_GP  NCAA_MPG  \\\n",
      "PLAYER                                                                 \n",
      "A.J. Jackson      RMU  28  33.9   2.8   6.5  10.9     28.0     34.65   \n",
      "AJ Brodeur       PENN   1  29.0   3.0   8.0  15.2      1.0     29.00   \n",
      "AJ West           NEV  30  29.1   5.9   5.1  15.2     30.0     29.10   \n",
      "Aaron Anderson   KENN  31  32.3   3.2   5.8  11.2     30.5     32.90   \n",
      "Aaron Andrews    MORG  28  27.8   3.0   4.8  11.2     28.0     27.80   \n",
      "Aaron Gray       PITT  31  27.9   3.8   6.8  15.2     32.0     28.05   \n",
      "Aaron Johnson     PSU  30  32.6   4.0   5.9  12.2     30.0     32.60   \n",
      "Aaron McGhee     OKLA  31  27.8   3.0   4.8  11.2     31.0     27.80   \n",
      "Abdul-Malik Abu  NCST  33  28.3   3.6   5.2  12.4     33.0     28.30   \n",
      "Adam Baumann      YSU  29  27.1   2.7   5.0  11.4     29.0     27.10   \n",
      "\n",
      "                 NCAA_ORPG  NCAA_DRPG  NCAA_RP40  \n",
      "PLAYER                                            \n",
      "A.J. Jackson          2.40       6.15       9.85  \n",
      "AJ Brodeur            3.00       8.00      15.20  \n",
      "AJ West               5.90       5.10      15.20  \n",
      "Aaron Anderson        3.30       5.70      10.95  \n",
      "Aaron Andrews         3.00       4.80      11.20  \n",
      "Aaron Gray            3.65       6.50      14.40  \n",
      "Aaron Johnson         4.00       5.90      12.20  \n",
      "Aaron McGhee          3.00       4.80      11.20  \n",
      "Abdul-Malik Abu       3.60       5.20      12.40  \n",
      "Adam Baumann          2.70       5.00      11.40  \n"
     ]
    }
   ],
   "source": [
    "grouped = rebounds_ncaa_df.groupby('PLAYER')\n",
    "rebounddf = grouped.first()\n",
    "# print stealdf.head(10)\n",
    "\n",
    "rebounddf = rebounddf.drop(['Unnamed: 0', 'OFF', 'DEF', 'REB', 'RPG', 'RK'], axis = 1)\n",
    "rebounddf['NCAA_GP'] = grouped['GP'].mean()\n",
    "rebounddf['NCAA_MPG'] = grouped['MPG'].mean()\n",
    "rebounddf['NCAA_ORPG'] = grouped['ORPG'].mean()\n",
    "rebounddf['NCAA_DRPG'] = grouped['DRPG'].mean()\n",
    "rebounddf['NCAA_RP40'] = grouped['RP40'].mean()\n",
    "print rebounddf.head(10)\n"
   ]
  },
  {
   "cell_type": "code",
   "execution_count": 201,
   "metadata": {
    "collapsed": false,
    "scrolled": true
   },
   "outputs": [
    {
     "name": "stdout",
     "output_type": "stream",
     "text": [
      "Index([u'TEAM_x', u'GP_x', u'MPG_x', u'PTS', u'FG%', u'3P%', u'FT%', u'FGA',\n",
      "       u'3PA', u'FTA', u'NCAA_GP_x', u'NCAA_MPG_x', u'NCAA_PTS', u'NCAA_FG%',\n",
      "       u'NCAA_3P%', u'NCAA_FT%', u'NCAA_FGA', u'NCAA_3PA', u'NCAA_FTA',\n",
      "       u'PLAYER', u'TEAM_y', u'GP_y', u'MPG_y', u'ORPG', u'DRPG', u'RP40',\n",
      "       u'NCAA_GP_y', u'NCAA_MPG_y', u'NCAA_ORPG', u'NCAA_DRPG', u'NCAA_RP40'],\n",
      "      dtype='object')\n",
      "TEAM\n",
      "TEAM\n"
     ]
    },
    {
     "ename": "KeyError",
     "evalue": "(u'TEAM_x', u'occurred at index TEAM_x')",
     "output_type": "error",
     "traceback": [
      "\u001b[0;31m---------------------------------------------------------------------------\u001b[0m",
      "\u001b[0;31mKeyError\u001b[0m                                  Traceback (most recent call last)",
      "\u001b[0;32m<ipython-input-201-ff8a9ce0a3a1>\u001b[0m in \u001b[0;36m<module>\u001b[0;34m()\u001b[0m\n\u001b[1;32m     19\u001b[0m         \u001b[0;32mreturn\u001b[0m \u001b[0mrow\u001b[0m\u001b[0;34m[\u001b[0m\u001b[0mprefix\u001b[0m \u001b[0;34m+\u001b[0m \u001b[0;34mu\"_y\"\u001b[0m\u001b[0;34m]\u001b[0m\u001b[0;34m\u001b[0m\u001b[0m\n\u001b[1;32m     20\u001b[0m \u001b[0;34m\u001b[0m\u001b[0m\n\u001b[0;32m---> 21\u001b[0;31m \u001b[0mmergeNcaaDf\u001b[0m\u001b[0;34m[\u001b[0m\u001b[0;34m'temp'\u001b[0m\u001b[0;34m]\u001b[0m \u001b[0;34m=\u001b[0m \u001b[0mmergeNcaaDf\u001b[0m\u001b[0;34m.\u001b[0m\u001b[0mapply\u001b[0m\u001b[0;34m(\u001b[0m\u001b[0;32mlambda\u001b[0m \u001b[0mrow\u001b[0m\u001b[0;34m:\u001b[0m \u001b[0mcombineColumn\u001b[0m\u001b[0;34m(\u001b[0m\u001b[0mrow\u001b[0m\u001b[0;34m,\u001b[0m \u001b[0;34mu'TEAM'\u001b[0m\u001b[0;34m)\u001b[0m\u001b[0;34m)\u001b[0m\u001b[0;34m\u001b[0m\u001b[0m\n\u001b[0m\u001b[1;32m     22\u001b[0m \u001b[0;34m\u001b[0m\u001b[0m\n\u001b[1;32m     23\u001b[0m \u001b[0;32mprint\u001b[0m \u001b[0mmergeNcaaDf\u001b[0m\u001b[0;34m[\u001b[0m\u001b[0;34m'temp'\u001b[0m\u001b[0;34m]\u001b[0m\u001b[0;34m.\u001b[0m\u001b[0mhead\u001b[0m\u001b[0;34m(\u001b[0m\u001b[0;36m20\u001b[0m\u001b[0;34m)\u001b[0m\u001b[0;34m\u001b[0m\u001b[0m\n",
      "\u001b[0;32m/usr/local/lib/python2.7/site-packages/pandas/core/frame.pyc\u001b[0m in \u001b[0;36mapply\u001b[0;34m(self, func, axis, broadcast, raw, reduce, args, **kwds)\u001b[0m\n\u001b[1;32m   4059\u001b[0m                     \u001b[0;32mif\u001b[0m \u001b[0mreduce\u001b[0m \u001b[0;32mis\u001b[0m \u001b[0mNone\u001b[0m\u001b[0;34m:\u001b[0m\u001b[0;34m\u001b[0m\u001b[0m\n\u001b[1;32m   4060\u001b[0m                         \u001b[0mreduce\u001b[0m \u001b[0;34m=\u001b[0m \u001b[0mTrue\u001b[0m\u001b[0;34m\u001b[0m\u001b[0m\n\u001b[0;32m-> 4061\u001b[0;31m                     \u001b[0;32mreturn\u001b[0m \u001b[0mself\u001b[0m\u001b[0;34m.\u001b[0m\u001b[0m_apply_standard\u001b[0m\u001b[0;34m(\u001b[0m\u001b[0mf\u001b[0m\u001b[0;34m,\u001b[0m \u001b[0maxis\u001b[0m\u001b[0;34m,\u001b[0m \u001b[0mreduce\u001b[0m\u001b[0;34m=\u001b[0m\u001b[0mreduce\u001b[0m\u001b[0;34m)\u001b[0m\u001b[0;34m\u001b[0m\u001b[0m\n\u001b[0m\u001b[1;32m   4062\u001b[0m             \u001b[0;32melse\u001b[0m\u001b[0;34m:\u001b[0m\u001b[0;34m\u001b[0m\u001b[0m\n\u001b[1;32m   4063\u001b[0m                 \u001b[0;32mreturn\u001b[0m \u001b[0mself\u001b[0m\u001b[0;34m.\u001b[0m\u001b[0m_apply_broadcast\u001b[0m\u001b[0;34m(\u001b[0m\u001b[0mf\u001b[0m\u001b[0;34m,\u001b[0m \u001b[0maxis\u001b[0m\u001b[0;34m)\u001b[0m\u001b[0;34m\u001b[0m\u001b[0m\n",
      "\u001b[0;32m/usr/local/lib/python2.7/site-packages/pandas/core/frame.pyc\u001b[0m in \u001b[0;36m_apply_standard\u001b[0;34m(self, func, axis, ignore_failures, reduce)\u001b[0m\n\u001b[1;32m   4155\u001b[0m             \u001b[0;32mtry\u001b[0m\u001b[0;34m:\u001b[0m\u001b[0;34m\u001b[0m\u001b[0m\n\u001b[1;32m   4156\u001b[0m                 \u001b[0;32mfor\u001b[0m \u001b[0mi\u001b[0m\u001b[0;34m,\u001b[0m \u001b[0mv\u001b[0m \u001b[0;32min\u001b[0m \u001b[0menumerate\u001b[0m\u001b[0;34m(\u001b[0m\u001b[0mseries_gen\u001b[0m\u001b[0;34m)\u001b[0m\u001b[0;34m:\u001b[0m\u001b[0;34m\u001b[0m\u001b[0m\n\u001b[0;32m-> 4157\u001b[0;31m                     \u001b[0mresults\u001b[0m\u001b[0;34m[\u001b[0m\u001b[0mi\u001b[0m\u001b[0;34m]\u001b[0m \u001b[0;34m=\u001b[0m \u001b[0mfunc\u001b[0m\u001b[0;34m(\u001b[0m\u001b[0mv\u001b[0m\u001b[0;34m)\u001b[0m\u001b[0;34m\u001b[0m\u001b[0m\n\u001b[0m\u001b[1;32m   4158\u001b[0m                     \u001b[0mkeys\u001b[0m\u001b[0;34m.\u001b[0m\u001b[0mappend\u001b[0m\u001b[0;34m(\u001b[0m\u001b[0mv\u001b[0m\u001b[0;34m.\u001b[0m\u001b[0mname\u001b[0m\u001b[0;34m)\u001b[0m\u001b[0;34m\u001b[0m\u001b[0m\n\u001b[1;32m   4159\u001b[0m             \u001b[0;32mexcept\u001b[0m \u001b[0mException\u001b[0m \u001b[0;32mas\u001b[0m \u001b[0me\u001b[0m\u001b[0;34m:\u001b[0m\u001b[0;34m\u001b[0m\u001b[0m\n",
      "\u001b[0;32m<ipython-input-201-ff8a9ce0a3a1>\u001b[0m in \u001b[0;36m<lambda>\u001b[0;34m(row)\u001b[0m\n\u001b[1;32m     19\u001b[0m         \u001b[0;32mreturn\u001b[0m \u001b[0mrow\u001b[0m\u001b[0;34m[\u001b[0m\u001b[0mprefix\u001b[0m \u001b[0;34m+\u001b[0m \u001b[0;34mu\"_y\"\u001b[0m\u001b[0;34m]\u001b[0m\u001b[0;34m\u001b[0m\u001b[0m\n\u001b[1;32m     20\u001b[0m \u001b[0;34m\u001b[0m\u001b[0m\n\u001b[0;32m---> 21\u001b[0;31m \u001b[0mmergeNcaaDf\u001b[0m\u001b[0;34m[\u001b[0m\u001b[0;34m'temp'\u001b[0m\u001b[0;34m]\u001b[0m \u001b[0;34m=\u001b[0m \u001b[0mmergeNcaaDf\u001b[0m\u001b[0;34m.\u001b[0m\u001b[0mapply\u001b[0m\u001b[0;34m(\u001b[0m\u001b[0;32mlambda\u001b[0m \u001b[0mrow\u001b[0m\u001b[0;34m:\u001b[0m \u001b[0mcombineColumn\u001b[0m\u001b[0;34m(\u001b[0m\u001b[0mrow\u001b[0m\u001b[0;34m,\u001b[0m \u001b[0;34mu'TEAM'\u001b[0m\u001b[0;34m)\u001b[0m\u001b[0;34m)\u001b[0m\u001b[0;34m\u001b[0m\u001b[0m\n\u001b[0m\u001b[1;32m     22\u001b[0m \u001b[0;34m\u001b[0m\u001b[0m\n\u001b[1;32m     23\u001b[0m \u001b[0;32mprint\u001b[0m \u001b[0mmergeNcaaDf\u001b[0m\u001b[0;34m[\u001b[0m\u001b[0;34m'temp'\u001b[0m\u001b[0;34m]\u001b[0m\u001b[0;34m.\u001b[0m\u001b[0mhead\u001b[0m\u001b[0;34m(\u001b[0m\u001b[0;36m20\u001b[0m\u001b[0;34m)\u001b[0m\u001b[0;34m\u001b[0m\u001b[0m\n",
      "\u001b[0;32m<ipython-input-201-ff8a9ce0a3a1>\u001b[0m in \u001b[0;36mcombineColumn\u001b[0;34m(row, prefix)\u001b[0m\n\u001b[1;32m     14\u001b[0m \u001b[0;32mdef\u001b[0m \u001b[0mcombineColumn\u001b[0m\u001b[0;34m(\u001b[0m\u001b[0mrow\u001b[0m\u001b[0;34m,\u001b[0m \u001b[0mprefix\u001b[0m\u001b[0;34m)\u001b[0m\u001b[0;34m:\u001b[0m\u001b[0;34m\u001b[0m\u001b[0m\n\u001b[1;32m     15\u001b[0m     \u001b[0;32mprint\u001b[0m \u001b[0mprefix\u001b[0m\u001b[0;34m\u001b[0m\u001b[0m\n\u001b[0;32m---> 16\u001b[0;31m     \u001b[0;32mif\u001b[0m \u001b[0mlen\u001b[0m\u001b[0;34m(\u001b[0m\u001b[0mrow\u001b[0m\u001b[0;34m[\u001b[0m\u001b[0mprefix\u001b[0m \u001b[0;34m+\u001b[0m \u001b[0;34mu\"_x\"\u001b[0m\u001b[0;34m]\u001b[0m\u001b[0;34m)\u001b[0m \u001b[0;34m>\u001b[0m \u001b[0mlen\u001b[0m\u001b[0;34m(\u001b[0m\u001b[0mrow\u001b[0m\u001b[0;34m[\u001b[0m\u001b[0mprefix\u001b[0m \u001b[0;34m+\u001b[0m \u001b[0;34mu\"_y\"\u001b[0m\u001b[0;34m]\u001b[0m\u001b[0;34m)\u001b[0m\u001b[0;34m:\u001b[0m\u001b[0;34m\u001b[0m\u001b[0m\n\u001b[0m\u001b[1;32m     17\u001b[0m         \u001b[0;32mreturn\u001b[0m \u001b[0mrow\u001b[0m\u001b[0;34m[\u001b[0m\u001b[0mprefix\u001b[0m \u001b[0;34m+\u001b[0m \u001b[0;34mu\"_x\"\u001b[0m\u001b[0;34m]\u001b[0m\u001b[0;34m\u001b[0m\u001b[0m\n\u001b[1;32m     18\u001b[0m     \u001b[0;32melse\u001b[0m\u001b[0;34m:\u001b[0m\u001b[0;34m\u001b[0m\u001b[0m\n",
      "\u001b[0;32m/usr/local/lib/python2.7/site-packages/pandas/core/series.pyc\u001b[0m in \u001b[0;36m__getitem__\u001b[0;34m(self, key)\u001b[0m\n\u001b[1;32m    581\u001b[0m         \u001b[0mkey\u001b[0m \u001b[0;34m=\u001b[0m \u001b[0mcom\u001b[0m\u001b[0;34m.\u001b[0m\u001b[0m_apply_if_callable\u001b[0m\u001b[0;34m(\u001b[0m\u001b[0mkey\u001b[0m\u001b[0;34m,\u001b[0m \u001b[0mself\u001b[0m\u001b[0;34m)\u001b[0m\u001b[0;34m\u001b[0m\u001b[0m\n\u001b[1;32m    582\u001b[0m         \u001b[0;32mtry\u001b[0m\u001b[0;34m:\u001b[0m\u001b[0;34m\u001b[0m\u001b[0m\n\u001b[0;32m--> 583\u001b[0;31m             \u001b[0mresult\u001b[0m \u001b[0;34m=\u001b[0m \u001b[0mself\u001b[0m\u001b[0;34m.\u001b[0m\u001b[0mindex\u001b[0m\u001b[0;34m.\u001b[0m\u001b[0mget_value\u001b[0m\u001b[0;34m(\u001b[0m\u001b[0mself\u001b[0m\u001b[0;34m,\u001b[0m \u001b[0mkey\u001b[0m\u001b[0;34m)\u001b[0m\u001b[0;34m\u001b[0m\u001b[0m\n\u001b[0m\u001b[1;32m    584\u001b[0m \u001b[0;34m\u001b[0m\u001b[0m\n\u001b[1;32m    585\u001b[0m             \u001b[0;32mif\u001b[0m \u001b[0;32mnot\u001b[0m \u001b[0mlib\u001b[0m\u001b[0;34m.\u001b[0m\u001b[0misscalar\u001b[0m\u001b[0;34m(\u001b[0m\u001b[0mresult\u001b[0m\u001b[0;34m)\u001b[0m\u001b[0;34m:\u001b[0m\u001b[0;34m\u001b[0m\u001b[0m\n",
      "\u001b[0;32m/usr/local/lib/python2.7/site-packages/pandas/indexes/base.pyc\u001b[0m in \u001b[0;36mget_value\u001b[0;34m(self, series, key)\u001b[0m\n\u001b[1;32m   1978\u001b[0m         \u001b[0;32mtry\u001b[0m\u001b[0;34m:\u001b[0m\u001b[0;34m\u001b[0m\u001b[0m\n\u001b[1;32m   1979\u001b[0m             return self._engine.get_value(s, k,\n\u001b[0;32m-> 1980\u001b[0;31m                                           tz=getattr(series.dtype, 'tz', None))\n\u001b[0m\u001b[1;32m   1981\u001b[0m         \u001b[0;32mexcept\u001b[0m \u001b[0mKeyError\u001b[0m \u001b[0;32mas\u001b[0m \u001b[0me1\u001b[0m\u001b[0;34m:\u001b[0m\u001b[0;34m\u001b[0m\u001b[0m\n\u001b[1;32m   1982\u001b[0m             \u001b[0;32mif\u001b[0m \u001b[0mlen\u001b[0m\u001b[0;34m(\u001b[0m\u001b[0mself\u001b[0m\u001b[0;34m)\u001b[0m \u001b[0;34m>\u001b[0m \u001b[0;36m0\u001b[0m \u001b[0;32mand\u001b[0m \u001b[0mself\u001b[0m\u001b[0;34m.\u001b[0m\u001b[0minferred_type\u001b[0m \u001b[0;32min\u001b[0m \u001b[0;34m[\u001b[0m\u001b[0;34m'integer'\u001b[0m\u001b[0;34m,\u001b[0m \u001b[0;34m'boolean'\u001b[0m\u001b[0;34m]\u001b[0m\u001b[0;34m:\u001b[0m\u001b[0;34m\u001b[0m\u001b[0m\n",
      "\u001b[0;32mpandas/index.pyx\u001b[0m in \u001b[0;36mpandas.index.IndexEngine.get_value (pandas/index.c:3332)\u001b[0;34m()\u001b[0m\n",
      "\u001b[0;32mpandas/index.pyx\u001b[0m in \u001b[0;36mpandas.index.IndexEngine.get_value (pandas/index.c:3035)\u001b[0;34m()\u001b[0m\n",
      "\u001b[0;32mpandas/index.pyx\u001b[0m in \u001b[0;36mpandas.index.IndexEngine.get_loc (pandas/index.c:4084)\u001b[0;34m()\u001b[0m\n",
      "\u001b[0;31mKeyError\u001b[0m: (u'TEAM_x', u'occurred at index TEAM_x')"
     ]
    }
   ],
   "source": [
    "scoredf['PLAYER'] = scoredf.index\n",
    "rebounddf['PLAYER'] = rebounddf.index\n",
    "assistdf['PLAYER'] = assistdf.index\n",
    "blocksdf['PLAYER'] = blocksdf.index\n",
    "stealdf['PLAYER'] = stealdf.index\n",
    "\n",
    "mergeNcaaDf = scoredf\n",
    "\n",
    "mergeNcaaDf = pd.merge(mergeNcaaDf, rebounddf, how='outer', on='PLAYER').fillna(0.0)\n",
    "print mergeNcaaDf.columns\n",
    "# print mergeNcaaDf[mergeNcaaDf['TEAM_x'] != mergeNcaaDf['TEAM_y']]['TEAM_x'].head()\n",
    "# print mergeNcaaDf[mergeNcaaDf['TEAM_x'] != mergeNcaaDf['TEAM_y']]['TEAM_y'].head()\n",
    "\n",
    "def combineColumn(row, prefix):\n",
    "    print prefix\n",
    "    if len(row[prefix + u\"_x\"]) > len(row[prefix + u\"_y\"]):\n",
    "        return row[prefix + u\"_x\"]\n",
    "    else:\n",
    "        return row[prefix + u\"_y\"]\n",
    "\n",
    "mergeNcaaDf['temp'] = mergeNcaaDf.apply(lambda row: combineColumn(row, u'TEAM'))\n",
    "    \n",
    "print mergeNcaaDf['temp'].head(20)\n",
    "print mergeNcaaDf['temp'].tail(20)\n",
    "\n",
    "\n",
    "print scoredf['TEAM'].head()\n",
    "print scoredf['TEAM'].head()\n",
    "\n",
    "# mergeNcaaDf = pd.merge(mergeNcaaDf, assistdf, how='outer', on='PLAYER').fillna(0.0)\n",
    "# mergeNcaaDf = pd.merge(mergeNcaaDf, blocksdf, how='outer', on='PLAYER').fillna(0.0)\n",
    "# mergeNcaaDf = pd.merge(mergeNcaaDf, stealdf, how='outer', on='PLAYER').fillna(0.0)\n",
    "#print mergeNcaaDf.head()\n"
   ]
  },
  {
   "cell_type": "code",
   "execution_count": 186,
   "metadata": {
    "collapsed": false
   },
   "outputs": [
    {
     "name": "stdout",
     "output_type": "stream",
     "text": [
      "                PLAYER All_Star\n",
      "0  Kareem Abdul-Jabbar     True\n",
      "1  Shareef Abdur-Rahim     True\n",
      "2          Alvan Adams     True\n",
      "3        Michael Adams     True\n",
      "4         Mark Aguirre     True\n",
      "  TEAM_x  GP_x  MPG_x  PTS_x  FG%_x  3P%_x  FT%_x   FGA  3PA  FTA   ...     \\\n",
      "0     VT  32.0   36.5   18.8  0.454  0.377  0.817  15.0  6.5  3.4   ...      \n",
      "1   IONA  33.0   37.3   19.9  0.436  0.394  0.781  14.2  8.0  5.5   ...      \n",
      "2    BUT  32.0   35.3   17.0  0.376  0.354  0.958  13.1  7.9  4.5   ...      \n",
      "3    RMU  28.0   35.4   16.9  0.466  0.350  0.850  13.3  4.2  3.6   ...      \n",
      "4    VAN  33.0   26.3   17.0  0.593  0.000  0.778   9.9  0.1  6.7   ...      \n",
      "\n",
      "   2016_TEAM  2016_GP  2016_MPG  2016_PTS  2016_FGM-FGA  2016_FG%  \\\n",
      "0          0      0.0       0.0       0.0             0       0.0   \n",
      "1          0      0.0       0.0       0.0             0       0.0   \n",
      "2          0      0.0       0.0       0.0             0       0.0   \n",
      "3          0      0.0       0.0       0.0             0       0.0   \n",
      "4          0      0.0       0.0       0.0             0       0.0   \n",
      "\n",
      "   2016_3PM-3PA  2016_3P%  2016_FTM-FTA 2016_FT%  \n",
      "0             0       0.0             0      0.0  \n",
      "1             0       0.0             0      0.0  \n",
      "2             0       0.0             0      0.0  \n",
      "3             0       0.0             0      0.0  \n",
      "4             0       0.0             0      0.0  \n",
      "\n",
      "[5 rows x 286 columns]\n",
      "['TEAM_x', 'GP_x', 'MPG_x', 'PTS_x', 'FG%_x', '3P%_x', 'FT%_x', 'FGA', '3PA', 'FTA', 'NCAA_GP_x', 'NCAA_MPG_x', 'NCAA_PTS', 'NCAA_FG%', 'NCAA_3P%', 'NCAA_FT%', 'NCAA_FGA', 'NCAA_3PA', 'NCAA_FTA', 'PLAYER', 'TEAM_y', 'GP_y', 'MPG_y', 'ORPG', 'DRPG', 'RP40', 'NCAA_GP_y', 'NCAA_MPG_y', 'NCAA_ORPG', 'NCAA_DRPG', 'NCAA_RP40', 'TEAM_x', 'GP_x', 'MPG_x', 'APG', 'TOPG_x', 'AP40M', 'NCAA_GP_x', 'NCAA_MPG_x', 'NCAA_APG', 'NCAA_TOPG_x', 'NCAA_AP40M', 'TEAM_y', 'GP_y', 'MPG_y', 'PF_x', 'BLKPG', 'BLKP40M', 'NCAA_GP_y', 'NCAA_MPG_y', 'NCAA_PF_x', 'NCAA_BLKPG', 'NCAA_BLKP40M', 'TEAM', 'GP', 'MPG', 'STPG', 'STP40M', 'TOPG_y', 'PF_y', 'NCAA_GP', 'NCAA_MPG', 'NCAA_STPG', 'NCAA_STP40M', 'NCAA_TOPG_y', 'NCAA_PF_y', 'Unnamed: 0', 'Draft_Yr', 'Pk', 'Tm', 'College', 'Yrs', 'G', 'MP', 'PTS_y', 'TRB', 'AST', 'FG%_y', '3P%_y', 'FT%_y', 'MP_per_game', 'PTS_per_game', 'TRB_per_game', 'AST_per_game', 'WS', 'WS_per_48', 'BPM', 'VORP', '1999_POS', '1999_TEAM', '1999_GP', '1999_MPG', '1999_PTS', '1999_FGM-FGA', '1999_FG%', '1999_3PM-3PA', '1999_3P%', '1999_FTM-FTA', '1999_FT%', '2000_POS', '2000_TEAM', '2000_GP', '2000_MPG', '2000_PTS', '2000_FGM-FGA', '2000_FG%', '2000_3PM-3PA', '2000_3P%', '2000_FTM-FTA', '2000_FT%', '2001_POS', '2001_TEAM', '2001_GP', '2001_MPG', '2001_PTS', '2001_FGM-FGA', '2001_FG%', '2001_3PM-3PA', '2001_3P%', '2001_FTM-FTA', '2001_FT%', '2002_POS', '2002_TEAM', '2002_GP', '2002_MPG', '2002_PTS', '2002_FGM-FGA', '2002_FG%', '2002_3PM-3PA', '2002_3P%', '2002_FTM-FTA', '2002_FT%', '2003_POS', '2003_TEAM', '2003_GP', '2003_MPG', '2003_PTS', '2003_FGM-FGA', '2003_FG%', '2003_3PM-3PA', '2003_3P%', '2003_FTM-FTA', '2003_FT%', '2004_POS', '2004_TEAM', '2004_GP', '2004_MPG', '2004_PTS', '2004_FGM-FGA', '2004_FG%', '2004_3PM-3PA', '2004_3P%', '2004_FTM-FTA', '2004_FT%', '2005_POS', '2005_TEAM', '2005_GP', '2005_MPG', '2005_PTS', '2005_FGM-FGA', '2005_FG%', '2005_3PM-3PA', '2005_3P%', '2005_FTM-FTA', '2005_FT%', '2006_POS', '2006_TEAM', '2006_GP', '2006_MPG', '2006_PTS', '2006_FGM-FGA', '2006_FG%', '2006_3PM-3PA', '2006_3P%', '2006_FTM-FTA', '2006_FT%', '2007_POS', '2007_TEAM', '2007_GP', '2007_MPG', '2007_PTS', '2007_FGM-FGA', '2007_FG%', '2007_3PM-3PA', '2007_3P%', '2007_FTM-FTA', '2007_FT%', '2008_POS', '2008_TEAM', '2008_GP', '2008_MPG', '2008_PTS', '2008_FGM-FGA', '2008_FG%', '2008_3PM-3PA', '2008_3P%', '2008_FTM-FTA', '2008_FT%', '2009_POS', '2009_TEAM', '2009_GP', '2009_MPG', '2009_PTS', '2009_FGM-FGA', '2009_FG%', '2009_3PM-3PA', '2009_3P%', '2009_FTM-FTA', '2009_FT%', '2010_POS', '2010_TEAM', '2010_GP', '2010_MPG', '2010_PTS', '2010_FGM-FGA', '2010_FG%', '2010_3PM-3PA', '2010_3P%', '2010_FTM-FTA', '2010_FT%', '2011_POS', '2011_TEAM', '2011_GP', '2011_MPG', '2011_PTS', '2011_FGM-FGA', '2011_FG%', '2011_3PM-3PA', '2011_3P%', '2011_FTM-FTA', '2011_FT%', '2012_POS', '2012_TEAM', '2012_GP', '2012_MPG', '2012_PTS', '2012_FGM-FGA', '2012_FG%', '2012_3PM-3PA', '2012_3P%', '2012_FTM-FTA', '2012_FT%', '2013_POS', '2013_TEAM', '2013_GP', '2013_MPG', '2013_PTS', '2013_FGM-FGA', '2013_FG%', '2013_3PM-3PA', '2013_3P%', '2013_FTM-FTA', '2013_FT%', '2014_POS', '2014_TEAM', '2014_GP', '2014_MPG', '2014_PTS', '2014_FGM-FGA', '2014_FG%', '2014_3PM-3PA', '2014_3P%', '2014_FTM-FTA', '2014_FT%', '2015_POS', '2015_TEAM', '2015_GP', '2015_MPG', '2015_PTS', '2015_FGM-FGA', '2015_FG%', '2015_3PM-3PA', '2015_3P%', '2015_FTM-FTA', '2015_FT%', '2016_POS', '2016_TEAM', '2016_GP', '2016_MPG', '2016_PTS', '2016_FGM-FGA', '2016_FG%', '2016_3PM-3PA', '2016_3P%', '2016_FTM-FTA', '2016_FT%']\n"
     ]
    }
   ],
   "source": [
    "ncaaPlayerSet = set(mergedf['PLAYER'])\n",
    "all_data_df = pd.read_csv(\"all_data_1999_to_2017.csv\")\n",
    "allstar_list_df = pd.read_csv(\"all_star_list.csv\")\n",
    "\n",
    "allstar_list_df['All_Star'] = True\n",
    "print allstar_list_df.head()\n",
    "\n",
    "mergeAllDf = pd.merge(mergeNcaaDf, all_data_df, how='left', on='PLAYER').fillna(0.0)\n",
    "print mergeAllDf.head()\n",
    "print list(mergeAllDf.columns)\n",
    "\n",
    "# nbaPlayerSet = set(all_data_df['PLAYER'])\n",
    "# playerIntersectSet = set(ncaaPlayerSet & nbaPlayerSet)\n",
    "\n",
    "# all_data_df['InNCAA'] = all_data_df['PLAYER'].apply(lambda name: True if name in ncaaPlayerSet else False)\n",
    "\n",
    "# intersectData = all_data_df[all_data_df['InNCAA']].fillna(0).drop(\n",
    "#     ['Unnamed: 0', 'College', 'InNCAA'], axis=1)\n",
    "\n",
    "\n",
    "# print list(intersectData.columns)\n",
    "\n",
    "# print nbaPlayerSet\n",
    "# print ncaaPlayerSet"
   ]
  },
  {
   "cell_type": "code",
   "execution_count": 173,
   "metadata": {
    "collapsed": false
   },
   "outputs": [
    {
     "name": "stdout",
     "output_type": "stream",
     "text": [
      "                  PLAYER\n",
      "0    Kareem Abdul-Jabbar\n",
      "1    Shareef Abdur-Rahim\n",
      "2            Alvan Adams\n",
      "3          Michael Adams\n",
      "4           Mark Aguirre\n",
      "5            Danny Ainge\n",
      "6      LaMarcus Aldridge\n",
      "7              Ray Allen\n",
      "8         Kenny Anderson\n",
      "9        Carmelo Anthony\n",
      "10        Nate Archibald\n",
      "11        Gilbert Arenas\n",
      "12           Paul Arizin\n",
      "13             Vin Baker\n",
      "14       Charles Barkley\n",
      "15         Don Barksdale\n",
      "16          Dick Barnett\n",
      "17         Leo Barnhorst\n",
      "18           Dana Barros\n",
      "19            Rick Barry\n",
      "20          Elgin Baylor\n",
      "21           Butch Beard\n",
      "22           Ralph Beard\n",
      "23           Zelmo Beaty\n",
      "24          Walt Bellamy\n",
      "25      Chauncey Billups\n",
      "26             Dave Bing\n",
      "27            Larry Bird\n",
      "28         Otis Birdsong\n",
      "29      Rolando Blackman\n",
      "..                   ...\n",
      "375            John Wall\n",
      "376          Ben Wallace\n",
      "377       Gerald Wallace\n",
      "378      Rasheed Wallace\n",
      "379         Paul Walther\n",
      "380          Bill Walton\n",
      "381         Bobby Wanzer\n",
      "382    Kermit Washington\n",
      "383         Chris Webber\n",
      "384         Scott Wedman\n",
      "385           David West\n",
      "386           Jerry West\n",
      "387    Russell Westbrook\n",
      "388        Paul Westphal\n",
      "389          Jo Jo White\n",
      "390         Sidney Wicks\n",
      "391        Lenny Wilkens\n",
      "392        Jamaal Wilkes\n",
      "393    Dominique Wilkins\n",
      "394        Buck Williams\n",
      "395       Deron Williams\n",
      "396         Gus Williams\n",
      "397      Jayson Williams\n",
      "398          Mo Williams\n",
      "399         Kevin Willis\n",
      "400        Brian Winters\n",
      "401    Metta World Peace\n",
      "402         James Worthy\n",
      "403       George Yardley\n",
      "404        Max Zaslofsky\n",
      "\n",
      "[405 rows x 1 columns]\n"
     ]
    }
   ],
   "source": []
  },
  {
   "cell_type": "markdown",
   "metadata": {},
   "source": [
    "## Merge with all star stats"
   ]
  },
  {
   "cell_type": "code",
   "execution_count": null,
   "metadata": {
    "collapsed": true
   },
   "outputs": [],
   "source": []
  },
  {
   "cell_type": "code",
   "execution_count": 5,
   "metadata": {
    "collapsed": false
   },
   "outputs": [
    {
     "ename": "IOError",
     "evalue": "File ref/allstar.csv does not exist",
     "output_type": "error",
     "traceback": [
      "\u001b[0;31m---------------------------------------------------------------------------\u001b[0m",
      "\u001b[0;31mIOError\u001b[0m                                   Traceback (most recent call last)",
      "\u001b[0;32m<ipython-input-5-397cc33e6a6b>\u001b[0m in \u001b[0;36m<module>\u001b[0;34m()\u001b[0m\n\u001b[1;32m      7\u001b[0m     \u001b[0;32mreturn\u001b[0m \u001b[0mrow\u001b[0m\u001b[0;34m\u001b[0m\u001b[0m\n\u001b[1;32m      8\u001b[0m \u001b[0;34m\u001b[0m\u001b[0m\n\u001b[0;32m----> 9\u001b[0;31m \u001b[0mallstar_stats\u001b[0m \u001b[0;34m=\u001b[0m \u001b[0mpd\u001b[0m\u001b[0;34m.\u001b[0m\u001b[0mread_csv\u001b[0m\u001b[0;34m(\u001b[0m\u001b[0;34m'ref/allstar.csv'\u001b[0m\u001b[0;34m)\u001b[0m\u001b[0;34m\u001b[0m\u001b[0m\n\u001b[0m\u001b[1;32m     10\u001b[0m \u001b[0mallstar_stats\u001b[0m \u001b[0;34m=\u001b[0m \u001b[0mallstar_stats\u001b[0m\u001b[0;34m.\u001b[0m\u001b[0mapply\u001b[0m\u001b[0;34m(\u001b[0m\u001b[0mseparateNameField\u001b[0m\u001b[0;34m,\u001b[0m \u001b[0maxis\u001b[0m \u001b[0;34m=\u001b[0m \u001b[0;36m1\u001b[0m\u001b[0;34m)\u001b[0m\u001b[0;34m\u001b[0m\u001b[0m\n\u001b[1;32m     11\u001b[0m \u001b[0;34m\u001b[0m\u001b[0m\n",
      "\u001b[0;32m/usr/local/lib/python2.7/site-packages/pandas/io/parsers.pyc\u001b[0m in \u001b[0;36mparser_f\u001b[0;34m(filepath_or_buffer, sep, delimiter, header, names, index_col, usecols, squeeze, prefix, mangle_dupe_cols, dtype, engine, converters, true_values, false_values, skipinitialspace, skiprows, skipfooter, nrows, na_values, keep_default_na, na_filter, verbose, skip_blank_lines, parse_dates, infer_datetime_format, keep_date_col, date_parser, dayfirst, iterator, chunksize, compression, thousands, decimal, lineterminator, quotechar, quoting, escapechar, comment, encoding, dialect, tupleize_cols, error_bad_lines, warn_bad_lines, skip_footer, doublequote, delim_whitespace, as_recarray, compact_ints, use_unsigned, low_memory, buffer_lines, memory_map, float_precision)\u001b[0m\n\u001b[1;32m    560\u001b[0m                     skip_blank_lines=skip_blank_lines)\n\u001b[1;32m    561\u001b[0m \u001b[0;34m\u001b[0m\u001b[0m\n\u001b[0;32m--> 562\u001b[0;31m         \u001b[0;32mreturn\u001b[0m \u001b[0m_read\u001b[0m\u001b[0;34m(\u001b[0m\u001b[0mfilepath_or_buffer\u001b[0m\u001b[0;34m,\u001b[0m \u001b[0mkwds\u001b[0m\u001b[0;34m)\u001b[0m\u001b[0;34m\u001b[0m\u001b[0m\n\u001b[0m\u001b[1;32m    563\u001b[0m \u001b[0;34m\u001b[0m\u001b[0m\n\u001b[1;32m    564\u001b[0m     \u001b[0mparser_f\u001b[0m\u001b[0;34m.\u001b[0m\u001b[0m__name__\u001b[0m \u001b[0;34m=\u001b[0m \u001b[0mname\u001b[0m\u001b[0;34m\u001b[0m\u001b[0m\n",
      "\u001b[0;32m/usr/local/lib/python2.7/site-packages/pandas/io/parsers.pyc\u001b[0m in \u001b[0;36m_read\u001b[0;34m(filepath_or_buffer, kwds)\u001b[0m\n\u001b[1;32m    313\u001b[0m \u001b[0;34m\u001b[0m\u001b[0m\n\u001b[1;32m    314\u001b[0m     \u001b[0;31m# Create the parser.\u001b[0m\u001b[0;34m\u001b[0m\u001b[0;34m\u001b[0m\u001b[0m\n\u001b[0;32m--> 315\u001b[0;31m     \u001b[0mparser\u001b[0m \u001b[0;34m=\u001b[0m \u001b[0mTextFileReader\u001b[0m\u001b[0;34m(\u001b[0m\u001b[0mfilepath_or_buffer\u001b[0m\u001b[0;34m,\u001b[0m \u001b[0;34m**\u001b[0m\u001b[0mkwds\u001b[0m\u001b[0;34m)\u001b[0m\u001b[0;34m\u001b[0m\u001b[0m\n\u001b[0m\u001b[1;32m    316\u001b[0m \u001b[0;34m\u001b[0m\u001b[0m\n\u001b[1;32m    317\u001b[0m     \u001b[0;32mif\u001b[0m \u001b[0;34m(\u001b[0m\u001b[0mnrows\u001b[0m \u001b[0;32mis\u001b[0m \u001b[0;32mnot\u001b[0m \u001b[0mNone\u001b[0m\u001b[0;34m)\u001b[0m \u001b[0;32mand\u001b[0m \u001b[0;34m(\u001b[0m\u001b[0mchunksize\u001b[0m \u001b[0;32mis\u001b[0m \u001b[0;32mnot\u001b[0m \u001b[0mNone\u001b[0m\u001b[0;34m)\u001b[0m\u001b[0;34m:\u001b[0m\u001b[0;34m\u001b[0m\u001b[0m\n",
      "\u001b[0;32m/usr/local/lib/python2.7/site-packages/pandas/io/parsers.pyc\u001b[0m in \u001b[0;36m__init__\u001b[0;34m(self, f, engine, **kwds)\u001b[0m\n\u001b[1;32m    643\u001b[0m             \u001b[0mself\u001b[0m\u001b[0;34m.\u001b[0m\u001b[0moptions\u001b[0m\u001b[0;34m[\u001b[0m\u001b[0;34m'has_index_names'\u001b[0m\u001b[0;34m]\u001b[0m \u001b[0;34m=\u001b[0m \u001b[0mkwds\u001b[0m\u001b[0;34m[\u001b[0m\u001b[0;34m'has_index_names'\u001b[0m\u001b[0;34m]\u001b[0m\u001b[0;34m\u001b[0m\u001b[0m\n\u001b[1;32m    644\u001b[0m \u001b[0;34m\u001b[0m\u001b[0m\n\u001b[0;32m--> 645\u001b[0;31m         \u001b[0mself\u001b[0m\u001b[0;34m.\u001b[0m\u001b[0m_make_engine\u001b[0m\u001b[0;34m(\u001b[0m\u001b[0mself\u001b[0m\u001b[0;34m.\u001b[0m\u001b[0mengine\u001b[0m\u001b[0;34m)\u001b[0m\u001b[0;34m\u001b[0m\u001b[0m\n\u001b[0m\u001b[1;32m    646\u001b[0m \u001b[0;34m\u001b[0m\u001b[0m\n\u001b[1;32m    647\u001b[0m     \u001b[0;32mdef\u001b[0m \u001b[0mclose\u001b[0m\u001b[0;34m(\u001b[0m\u001b[0mself\u001b[0m\u001b[0;34m)\u001b[0m\u001b[0;34m:\u001b[0m\u001b[0;34m\u001b[0m\u001b[0m\n",
      "\u001b[0;32m/usr/local/lib/python2.7/site-packages/pandas/io/parsers.pyc\u001b[0m in \u001b[0;36m_make_engine\u001b[0;34m(self, engine)\u001b[0m\n\u001b[1;32m    797\u001b[0m     \u001b[0;32mdef\u001b[0m \u001b[0m_make_engine\u001b[0m\u001b[0;34m(\u001b[0m\u001b[0mself\u001b[0m\u001b[0;34m,\u001b[0m \u001b[0mengine\u001b[0m\u001b[0;34m=\u001b[0m\u001b[0;34m'c'\u001b[0m\u001b[0;34m)\u001b[0m\u001b[0;34m:\u001b[0m\u001b[0;34m\u001b[0m\u001b[0m\n\u001b[1;32m    798\u001b[0m         \u001b[0;32mif\u001b[0m \u001b[0mengine\u001b[0m \u001b[0;34m==\u001b[0m \u001b[0;34m'c'\u001b[0m\u001b[0;34m:\u001b[0m\u001b[0;34m\u001b[0m\u001b[0m\n\u001b[0;32m--> 799\u001b[0;31m             \u001b[0mself\u001b[0m\u001b[0;34m.\u001b[0m\u001b[0m_engine\u001b[0m \u001b[0;34m=\u001b[0m \u001b[0mCParserWrapper\u001b[0m\u001b[0;34m(\u001b[0m\u001b[0mself\u001b[0m\u001b[0;34m.\u001b[0m\u001b[0mf\u001b[0m\u001b[0;34m,\u001b[0m \u001b[0;34m**\u001b[0m\u001b[0mself\u001b[0m\u001b[0;34m.\u001b[0m\u001b[0moptions\u001b[0m\u001b[0;34m)\u001b[0m\u001b[0;34m\u001b[0m\u001b[0m\n\u001b[0m\u001b[1;32m    800\u001b[0m         \u001b[0;32melse\u001b[0m\u001b[0;34m:\u001b[0m\u001b[0;34m\u001b[0m\u001b[0m\n\u001b[1;32m    801\u001b[0m             \u001b[0;32mif\u001b[0m \u001b[0mengine\u001b[0m \u001b[0;34m==\u001b[0m \u001b[0;34m'python'\u001b[0m\u001b[0;34m:\u001b[0m\u001b[0;34m\u001b[0m\u001b[0m\n",
      "\u001b[0;32m/usr/local/lib/python2.7/site-packages/pandas/io/parsers.pyc\u001b[0m in \u001b[0;36m__init__\u001b[0;34m(self, src, **kwds)\u001b[0m\n\u001b[1;32m   1211\u001b[0m         \u001b[0mkwds\u001b[0m\u001b[0;34m[\u001b[0m\u001b[0;34m'allow_leading_cols'\u001b[0m\u001b[0;34m]\u001b[0m \u001b[0;34m=\u001b[0m \u001b[0mself\u001b[0m\u001b[0;34m.\u001b[0m\u001b[0mindex_col\u001b[0m \u001b[0;32mis\u001b[0m \u001b[0;32mnot\u001b[0m \u001b[0mFalse\u001b[0m\u001b[0;34m\u001b[0m\u001b[0m\n\u001b[1;32m   1212\u001b[0m \u001b[0;34m\u001b[0m\u001b[0m\n\u001b[0;32m-> 1213\u001b[0;31m         \u001b[0mself\u001b[0m\u001b[0;34m.\u001b[0m\u001b[0m_reader\u001b[0m \u001b[0;34m=\u001b[0m \u001b[0m_parser\u001b[0m\u001b[0;34m.\u001b[0m\u001b[0mTextReader\u001b[0m\u001b[0;34m(\u001b[0m\u001b[0msrc\u001b[0m\u001b[0;34m,\u001b[0m \u001b[0;34m**\u001b[0m\u001b[0mkwds\u001b[0m\u001b[0;34m)\u001b[0m\u001b[0;34m\u001b[0m\u001b[0m\n\u001b[0m\u001b[1;32m   1214\u001b[0m \u001b[0;34m\u001b[0m\u001b[0m\n\u001b[1;32m   1215\u001b[0m         \u001b[0;31m# XXX\u001b[0m\u001b[0;34m\u001b[0m\u001b[0;34m\u001b[0m\u001b[0m\n",
      "\u001b[0;32mpandas/parser.pyx\u001b[0m in \u001b[0;36mpandas.parser.TextReader.__cinit__ (pandas/parser.c:3427)\u001b[0;34m()\u001b[0m\n",
      "\u001b[0;32mpandas/parser.pyx\u001b[0m in \u001b[0;36mpandas.parser.TextReader._setup_parser_source (pandas/parser.c:6861)\u001b[0;34m()\u001b[0m\n",
      "\u001b[0;31mIOError\u001b[0m: File ref/allstar.csv does not exist"
     ]
    }
   ],
   "source": []
  },
  {
   "cell_type": "code",
   "execution_count": null,
   "metadata": {
    "collapsed": false
   },
   "outputs": [],
   "source": []
  },
  {
   "cell_type": "code",
   "execution_count": null,
   "metadata": {
    "collapsed": false
   },
   "outputs": [],
   "source": [
    "\n",
    "\n"
   ]
  },
  {
   "cell_type": "code",
   "execution_count": null,
   "metadata": {
    "collapsed": true
   },
   "outputs": [],
   "source": []
  },
  {
   "cell_type": "code",
   "execution_count": null,
   "metadata": {
    "collapsed": true
   },
   "outputs": [],
   "source": []
  },
  {
   "cell_type": "code",
   "execution_count": null,
   "metadata": {
    "collapsed": true
   },
   "outputs": [],
   "source": []
  }
 ],
 "metadata": {
  "kernelspec": {
   "display_name": "Python 2",
   "language": "python",
   "name": "python2"
  },
  "language_info": {
   "codemirror_mode": {
    "name": "ipython",
    "version": 2
   },
   "file_extension": ".py",
   "mimetype": "text/x-python",
   "name": "python",
   "nbconvert_exporter": "python",
   "pygments_lexer": "ipython2",
   "version": "2.7.12"
  }
 },
 "nbformat": 4,
 "nbformat_minor": 1
}
